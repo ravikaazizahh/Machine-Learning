{
 "cells": [
  {
   "cell_type": "code",
   "execution_count": 1,
   "metadata": {
    "executionInfo": {
     "elapsed": 402,
     "status": "ok",
     "timestamp": 1638496718272,
     "user": {
      "displayName": "Teza Alfian",
      "photoUrl": "https://lh3.googleusercontent.com/a-/AOh14GiayxHK5HEXy3A0cWkHph_ajUjr14Y1rR_jP5s7KA=s64",
      "userId": "08398179865351623657"
     },
     "user_tz": -420
    },
    "id": "NxSesSKmAGTA"
   },
   "outputs": [
    {
     "ename": "ModuleNotFoundError",
     "evalue": "No module named 'gym'",
     "output_type": "error",
     "traceback": [
      "\u001b[1;31m---------------------------------------------------------------------------\u001b[0m",
      "\u001b[1;31mModuleNotFoundError\u001b[0m                       Traceback (most recent call last)",
      "\u001b[1;32m<ipython-input-1-c727ea424a25>\u001b[0m in \u001b[0;36m<module>\u001b[1;34m\u001b[0m\n\u001b[1;32m----> 1\u001b[1;33m \u001b[1;32mimport\u001b[0m \u001b[0mgym\u001b[0m\u001b[1;33m\u001b[0m\u001b[1;33m\u001b[0m\u001b[0m\n\u001b[0m",
      "\u001b[1;31mModuleNotFoundError\u001b[0m: No module named 'gym'"
     ]
    }
   ],
   "source": [
    "import gym"
   ]
  },
  {
   "cell_type": "code",
   "execution_count": null,
   "metadata": {
    "colab": {
     "base_uri": "https://localhost:8080/"
    },
    "executionInfo": {
     "elapsed": 373,
     "status": "ok",
     "timestamp": 1638496753077,
     "user": {
      "displayName": "Teza Alfian",
      "photoUrl": "https://lh3.googleusercontent.com/a-/AOh14GiayxHK5HEXy3A0cWkHph_ajUjr14Y1rR_jP5s7KA=s64",
      "userId": "08398179865351623657"
     },
     "user_tz": -420
    },
    "id": "ItkA6iNRA6vr",
    "outputId": "747f180b-0453-4c26-c376-3deb8208a49c"
   },
   "outputs": [],
   "source": [
    "env = gym.make(\"Taxi-v3\").env\n",
    "env.render()"
   ]
  },
  {
   "cell_type": "code",
   "execution_count": null,
   "metadata": {
    "colab": {
     "base_uri": "https://localhost:8080/"
    },
    "executionInfo": {
     "elapsed": 377,
     "status": "ok",
     "timestamp": 1638497051275,
     "user": {
      "displayName": "Teza Alfian",
      "photoUrl": "https://lh3.googleusercontent.com/a-/AOh14GiayxHK5HEXy3A0cWkHph_ajUjr14Y1rR_jP5s7KA=s64",
      "userId": "08398179865351623657"
     },
     "user_tz": -420
    },
    "id": "MoLVoj1gBFHc",
    "outputId": "5e35a17a-148b-4dc1-921a-73d1248c08a2"
   },
   "outputs": [],
   "source": [
    "print(\"Action Space {}\". format(env.action_space))\n",
    "print(\"State Space {}\" . format(env.observation_space))"
   ]
  },
  {
   "cell_type": "code",
   "execution_count": null,
   "metadata": {
    "colab": {
     "base_uri": "https://localhost:8080/"
    },
    "executionInfo": {
     "elapsed": 357,
     "status": "ok",
     "timestamp": 1638497224765,
     "user": {
      "displayName": "Teza Alfian",
      "photoUrl": "https://lh3.googleusercontent.com/a-/AOh14GiayxHK5HEXy3A0cWkHph_ajUjr14Y1rR_jP5s7KA=s64",
      "userId": "08398179865351623657"
     },
     "user_tz": -420
    },
    "id": "DJLQQcdXCN4F",
    "outputId": "e247d2aa-9913-4b4c-89fe-1481f67eb3b0"
   },
   "outputs": [],
   "source": [
    "state = env.encode(1, 2, 3, 2)\n",
    "print(\"State : \", state)\n",
    "\n",
    "env.s = state\n",
    "env.render()"
   ]
  },
  {
   "cell_type": "code",
   "execution_count": null,
   "metadata": {
    "colab": {
     "base_uri": "https://localhost:8080/"
    },
    "executionInfo": {
     "elapsed": 362,
     "status": "ok",
     "timestamp": 1638497686534,
     "user": {
      "displayName": "Teza Alfian",
      "photoUrl": "https://lh3.googleusercontent.com/a-/AOh14GiayxHK5HEXy3A0cWkHph_ajUjr14Y1rR_jP5s7KA=s64",
      "userId": "08398179865351623657"
     },
     "user_tz": -420
    },
    "id": "5obkpZD3C4Re",
    "outputId": "1d397406-f970-41ba-8e4d-e5605e92bfdc"
   },
   "outputs": [],
   "source": [
    "env.s = 154\n",
    "\n",
    "epochs = 0\n",
    "penalties, reward = 0,0\n",
    "\n",
    "frames = []\n",
    "\n",
    "done = False\n",
    "\n",
    "while not done :\n",
    "  action = env.action_space.sample()\n",
    "  state, reward, done, info = env.step(action)\n",
    "\n",
    "  if reward == -10 :\n",
    "    penalties += 1\n",
    "\n",
    "  frames.append({\n",
    "      'frame' : env.render(mode = 'ansi'),\n",
    "      'state' : state,\n",
    "      'action' : action,\n",
    "      'reward' : reward\n",
    "  })\n",
    "\n",
    "  epochs += 1\n",
    "\n",
    "print(\"Timesteps : {}\" . format(epochs))\n",
    "print(\"Penalties : {}\" . format(penalties))\n"
   ]
  },
  {
   "cell_type": "code",
   "execution_count": null,
   "metadata": {
    "colab": {
     "base_uri": "https://localhost:8080/"
    },
    "executionInfo": {
     "elapsed": 138914,
     "status": "ok",
     "timestamp": 1638500168851,
     "user": {
      "displayName": "Teza Alfian",
      "photoUrl": "https://lh3.googleusercontent.com/a-/AOh14GiayxHK5HEXy3A0cWkHph_ajUjr14Y1rR_jP5s7KA=s64",
      "userId": "08398179865351623657"
     },
     "user_tz": -420
    },
    "id": "2oyUL1fyEl7_",
    "outputId": "73184db0-140b-4aa5-f754-8217657e2989"
   },
   "outputs": [],
   "source": [
    "from IPython.display import  clear_output\n",
    "from time import sleep\n",
    "\n",
    "def print_frames(frames) :\n",
    "  for i, frame in enumerate(frames) :\n",
    "    clear_output(wait = True)\n",
    "    print(frame['frame'])\n",
    "    print(f\"Timestep : {i + 1}\")\n",
    "    print(f\"State : {frame['state']}\")\n",
    "    print(f\"Action : {frame['action']}\")\n",
    "    print(f\"Reward : {frame['reward']}\")\n",
    "    sleep(.1)\n",
    "\n",
    "print_frames(frames)"
   ]
  },
  {
   "cell_type": "code",
   "execution_count": null,
   "metadata": {
    "executionInfo": {
     "elapsed": 372,
     "status": "ok",
     "timestamp": 1638498467576,
     "user": {
      "displayName": "Teza Alfian",
      "photoUrl": "https://lh3.googleusercontent.com/a-/AOh14GiayxHK5HEXy3A0cWkHph_ajUjr14Y1rR_jP5s7KA=s64",
      "userId": "08398179865351623657"
     },
     "user_tz": -420
    },
    "id": "h8NCTCHZGEiI"
   },
   "outputs": [],
   "source": [
    "import numpy as np\n",
    "q_table = np.zeros([env.observation_space.n, env.action_space.n])"
   ]
  },
  {
   "cell_type": "code",
   "execution_count": null,
   "metadata": {
    "colab": {
     "base_uri": "https://localhost:8080/"
    },
    "executionInfo": {
     "elapsed": 72745,
     "status": "ok",
     "timestamp": 1638499073065,
     "user": {
      "displayName": "Teza Alfian",
      "photoUrl": "https://lh3.googleusercontent.com/a-/AOh14GiayxHK5HEXy3A0cWkHph_ajUjr14Y1rR_jP5s7KA=s64",
      "userId": "08398179865351623657"
     },
     "user_tz": -420
    },
    "id": "nLMihiCCHntt",
    "outputId": "008698bf-a57d-4ce5-81e6-4f4f775cd027"
   },
   "outputs": [],
   "source": [
    "%%time\n",
    "\n",
    "import random\n",
    "from IPython.display import clear_output\n",
    "\n",
    "alpha = 0.1\n",
    "gamma = 0.6\n",
    "epsilon = 0.1\n",
    "\n",
    "all_epochs = []\n",
    "all_penalties = []\n",
    "\n",
    "for i in range(1, 100001) :\n",
    "  state = env.reset()\n",
    "\n",
    "  epochs, penalties, reward, = 0,0,0\n",
    "  done = False\n",
    "\n",
    "  while not done :\n",
    "    if random.uniform(0,1) < epsilon :\n",
    "      action = env.action_space.sample()\n",
    "    else :\n",
    "      action = np.argmax(q_table[state])\n",
    "    \n",
    "    next_state, reward, done, info = env.step(action)\n",
    "\n",
    "    old_value = q_table[state, action]\n",
    "    next_max = np.max(q_table[next_state])\n",
    "\n",
    "    new_value = (1-alpha) * old_value + alpha * (reward + gamma * next_max)\n",
    "    q_table[state, action] = new_value\n",
    "\n",
    "    if reward == -10 :\n",
    "      penalties += 1\n",
    "    \n",
    "    state = next_state\n",
    "    epochs += 1\n",
    "\n",
    "  if i % 100 == 0 :\n",
    "    clear_output(wait = True)\n",
    "    print(f\"Episode : {i}\")\n",
    "\n",
    "\n",
    "print(\"Training finished\")"
   ]
  },
  {
   "cell_type": "code",
   "execution_count": null,
   "metadata": {
    "colab": {
     "base_uri": "https://localhost:8080/"
    },
    "executionInfo": {
     "elapsed": 337,
     "status": "ok",
     "timestamp": 1638499820814,
     "user": {
      "displayName": "Teza Alfian",
      "photoUrl": "https://lh3.googleusercontent.com/a-/AOh14GiayxHK5HEXy3A0cWkHph_ajUjr14Y1rR_jP5s7KA=s64",
      "userId": "08398179865351623657"
     },
     "user_tz": -420
    },
    "id": "j5BjDks3Jlso",
    "outputId": "a08bfe9d-6081-4b17-8f00-0e18eab6b084"
   },
   "outputs": [],
   "source": [
    "total_epoch, total_penalties = 0,0\n",
    "episodes = 100\n",
    "\n",
    "frames = []\n",
    "\n",
    "for _ in range(episodes) :\n",
    "  state = env.reset()\n",
    "  epochs, penalties, reward = 0, 0, 0\n",
    "\n",
    "  done = False\n",
    "\n",
    "  while not done :\n",
    "    action = np.argmax(q_table[state])\n",
    "    state, reward, done, info = env.step(action)\n",
    "\n",
    "    if reward == -10 :\n",
    "      penalties += 1\n",
    "    \n",
    "    frames.append({\n",
    "        'frame' : env.render(mode = 'ansi'),\n",
    "        'state' : state,\n",
    "        'action' : action,\n",
    "        'reward' : reward\n",
    "    })\n",
    "\n",
    "    epochs += 1\n",
    "  \n",
    "  total_penalties += penalties\n",
    "  total_epoch += epochs\n",
    "\n",
    "print(f\"result after {episodes} episodes : \")\n",
    "print(f\"Average timestep per episode : {total_epoch / episodes}\")\n",
    "print(f\"Average penalties per episode : {total_penalties / episodes}\")"
   ]
  },
  {
   "cell_type": "code",
   "execution_count": null,
   "metadata": {
    "colab": {
     "base_uri": "https://localhost:8080/"
    },
    "executionInfo": {
     "elapsed": 138929,
     "status": "ok",
     "timestamp": 1638500007184,
     "user": {
      "displayName": "Teza Alfian",
      "photoUrl": "https://lh3.googleusercontent.com/a-/AOh14GiayxHK5HEXy3A0cWkHph_ajUjr14Y1rR_jP5s7KA=s64",
      "userId": "08398179865351623657"
     },
     "user_tz": -420
    },
    "id": "K4PSkaQEMv2y",
    "outputId": "2d3eec50-ee1b-473e-f739-df52a2126f7e"
   },
   "outputs": [],
   "source": [
    "print_frames(frames)"
   ]
  }
 ],
 "metadata": {
  "colab": {
   "authorship_tag": "ABX9TyNWoEuYQ3OGOuz8GeNCMjs9",
   "name": "qlearning.ipynb",
   "provenance": []
  },
  "kernelspec": {
   "display_name": "Python 3",
   "language": "python",
   "name": "python3"
  },
  "language_info": {
   "codemirror_mode": {
    "name": "ipython",
    "version": 3
   },
   "file_extension": ".py",
   "mimetype": "text/x-python",
   "name": "python",
   "nbconvert_exporter": "python",
   "pygments_lexer": "ipython3",
   "version": "3.8.5"
  }
 },
 "nbformat": 4,
 "nbformat_minor": 1
}
